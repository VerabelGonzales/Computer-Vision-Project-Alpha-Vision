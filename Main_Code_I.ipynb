{
  "nbformat": 4,
  "nbformat_minor": 0,
  "metadata": {
    "colab": {
      "name": "Main Code I.ipynb",
      "private_outputs": true,
      "provenance": [],
      "collapsed_sections": [
        "v_jtwWgSHTRa",
        "f6pQUw3VHxAX"
      ],
      "mount_file_id": "https://github.com/VerabelGonzales/Project_Alpha_Vision/blob/main/Main_Code_I.ipynb",
      "authorship_tag": "ABX9TyOElOZus6+xILczmfxCbqDw",
      "include_colab_link": true
    },
    "kernelspec": {
      "name": "python3",
      "display_name": "Python 3"
    },
    "language_info": {
      "name": "python"
    },
    "accelerator": "GPU",
    "gpuClass": "standard"
  },
  "cells": [
    {
      "cell_type": "markdown",
      "metadata": {
        "id": "view-in-github",
        "colab_type": "text"
      },
      "source": [
        "<a href=\"https://colab.research.google.com/github/VerabelGonzales/Project_Alpha_Vision/blob/main/Main_Code_I.ipynb\" target=\"_parent\"><img src=\"https://colab.research.google.com/assets/colab-badge.svg\" alt=\"Open In Colab\"/></a>"
      ]
    },
    {
      "cell_type": "code",
      "source": [
        "!pip install opencv-contrib-python==3.4.2.17"
      ],
      "metadata": {
        "id": "XwblL_cbRHcW"
      },
      "execution_count": null,
      "outputs": []
    },
    {
      "cell_type": "markdown",
      "source": [
        "# **Main Code I**"
      ],
      "metadata": {
        "id": "_Nw0vg6PHPLa"
      }
    },
    {
      "cell_type": "markdown",
      "source": [
        "## Import Libreries"
      ],
      "metadata": {
        "id": "v_jtwWgSHTRa"
      }
    },
    {
      "cell_type": "code",
      "execution_count": null,
      "metadata": {
        "id": "3VtTjKo1HMWn"
      },
      "outputs": [],
      "source": [
        "import numpy as np\n",
        "import pandas as pd\n",
        "import matplotlib.pyplot as plt\n",
        "import sklearn\n",
        "from sklearn.cluster import KMeans\n",
        "from collections import Counter\n",
        "from skimage.color import rgb2lab, deltaE_cie76\n",
        "import cv2\n",
        "import os, requests\n",
        "import copy\n",
        "import pandas as pd\n",
        "from statistics import mean\n",
        "from numpy.ma.core import append\n",
        "import glob\n",
        "from IPython.display import Image, display\n",
        "from numpy.ma.core import append\n",
        "from statistics import mean\n",
        "import copy\n",
        "import random \n",
        "from google.colab.patches import cv2_imshow\n",
        "\n",
        "%matplotlib inline"
      ]
    },
    {
      "cell_type": "markdown",
      "source": [
        "## Clone Our GitHub Repository"
      ],
      "metadata": {
        "id": "f6pQUw3VHxAX"
      }
    },
    {
      "cell_type": "code",
      "source": [
        "!git clone https://github.com/VerabelGonzales/Project_Alpha_Vision"
      ],
      "metadata": {
        "id": "ZHMbepE5H5TZ"
      },
      "execution_count": null,
      "outputs": []
    },
    {
      "cell_type": "markdown",
      "source": [
        "## Functions"
      ],
      "metadata": {
        "id": "OuFIILxh9Gmc"
      }
    },
    {
      "cell_type": "code",
      "source": [
        "def show_create_folder(path):\n",
        "  files_names = os.listdir(path)\n",
        "\n",
        "  new_folder_path = \"/content/Images_Dogs\"\n",
        "  if not os.path.exists(new_folder_path):\n",
        "    os.makedirs(new_folder_path)\n",
        "\n",
        "  cont = 0\n",
        "  for file_name in files_names:\n",
        "    if file_name.split(\".\")[-1]not in [\"jpg\", \"png\", \"jpeg\"]:\n",
        "      continue\n",
        "    image_path = path + \"/\" + file_name\n",
        "    print(image_path)\n",
        "    image = cv2.imread(image_path)\n",
        "    if image is None:\n",
        "      continue\n",
        "\n",
        "    cv2.imwrite(new_folder_path +\"/image\" + str(cont)+\".jpg\", image)\n",
        "    cont += 1"
      ],
      "metadata": {
        "id": "xCrq5dvoMvvR"
      },
      "execution_count": null,
      "outputs": []
    },
    {
      "cell_type": "code",
      "source": [
        "def breed_yolo():\n",
        "  # For a golden retriever\n",
        "  !python /content/Project_Alpha_Vision/Detection_Breed/detect_lost_golden.py --weights /content/Project_Alpha_Vision/dog_models/golden.pt --img 416 --conf 0.1 --source  /content/Images_Dogs\n",
        "\n",
        "  # For a Pug\n",
        "  !python /content/Project_Alpha_Vision/Detection_Breed/detect_lost_pug.py --weights /content/Project_Alpha_Vision/dog_models/pug_model.pt --img 416 --conf 0.1 --source /content/Images_Dogs\n",
        "\n",
        "  # For a German Shepherd \n",
        "  !python /content/Project_Alpha_Vision/Detection_Breed/detect_lost_german.py --weights /content/Project_Alpha_Vision/dog_models/german_shepherd_model.pt --img 416 --conf 0.1 --source /content/Images_Dogs\n",
        "\n",
        "  # For a Chihuahua\n",
        "  !python /content/Project_Alpha_Vision/Detection_Breed/detect_lost_chihuahua.py --weights /content/Project_Alpha_Vision/dog_models/chihuahua_model.pt --img 416 --conf 0.1 --source /content/Images_Dogs\n",
        "\n",
        "  # For a Husky Siveriano\n",
        "  #!python /content/Project_Alpha_Vision/Detection_Breed/detect_lost_siveriano.py --weights /content/Project_Alpha_Vision/dog_models/siberian_husky_model.pt --img 416 --conf 0.1 --source /content/Images_Dogs\n",
        "\n",
        "  #For a Boxer\n",
        "  #!python /content/Project_Alpha_Vision/Detection_Breed/detect_lost_boxer.py --weights /content/Project_Alpha_Vision/dog_models/boxer_model.pt --img 416 --conf 0.1 --source /content/Images_Dogs\n",
        "\n",
        "  # For a San Berbardo \n",
        "  !python /content/Project_Alpha_Vision/Detection_Breed/detect_lost_sanbernardo.py --weights /content/Project_Alpha_Vision/dog_models/saint_bernard_model.pt --img 416 --conf 0.1 --source /content/Images_Dogs\n",
        "\n",
        "  # For a Schauzer \n",
        "  !python /content/Project_Alpha_Vision/Detection_Breed/detect_lost_schnauzer.py --weights /content/Project_Alpha_Vision/dog_models/schnauzer_model.pt --img 416 --conf 0.1 --source /content/Images_Dogs"
      ],
      "metadata": {
        "id": "yrC2DxfecDFD"
      },
      "execution_count": null,
      "outputs": []
    },
    {
      "cell_type": "code",
      "source": [
        "def determine_breed():\n",
        "  folders = ['Boxer','Chihuahua','German_Shepherd','Golden_Retriever','Pug','San_Bernardo','Schnauser','Husky_Siveriano']\n",
        "  breed = np.zeros(len(folders))\n",
        "  for i in range(len(folders)):\n",
        "    for imageName in glob.glob('/content/Project_Alpha_Vision/Find/'+folders[i]+'/*.jpg'): #assuming JPG\n",
        "      breed[i] = breed[i] + 1\n",
        "      display(Image(filename=imageName, width = 300, height = 200))\n",
        "      print(\"\\n\")\n",
        "\n",
        "  max_value = None\n",
        "  max_idx = None\n",
        "  for idx, num in enumerate(breed):\n",
        "      if (max_value is None or num > max_value):\n",
        "          max_value = num\n",
        "          max_idx = idx\n",
        "  \n",
        "  return max_value, max_idx, folders[max_idx]"
      ],
      "metadata": {
        "id": "wqKibZpVbd9j"
      },
      "execution_count": null,
      "outputs": []
    },
    {
      "cell_type": "code",
      "source": [
        "def RGB2HEX(color):\n",
        "    return \"#{:02x}{:02x}{:02x}\".format(int(color[0]), int(color[1]), int(color[2]))"
      ],
      "metadata": {
        "id": "ijqTCHw58gO3"
      },
      "execution_count": null,
      "outputs": []
    },
    {
      "cell_type": "code",
      "source": [
        "def color_determination(imagename):\n",
        "  image = cv2.imread(imagename)\n",
        "  image = cv2.cvtColor(image, cv2.COLOR_BGR2RGB)\n",
        "  number_of_colors = 1\n",
        "  modified_image = image.reshape(image.shape[0]*image.shape[1], 3)\n",
        "  clf = KMeans(n_clusters = number_of_colors)\n",
        "  labels = clf.fit_predict(modified_image)\n",
        "\n",
        "  counts = Counter(labels)\n",
        "\n",
        "  center_colors = clf.cluster_centers_\n",
        "  # We get ordered colors by iterating through the keys\n",
        "  ordered_colors = [center_colors[i] for i in counts.keys()]\n",
        "  hex_colors = [RGB2HEX(ordered_colors[i]) for i in counts.keys()]\n",
        "  rgb_colors = [ordered_colors[i] for i in counts.keys()]\n",
        "\n",
        "  #plt.title('Color Detection', fontsize=20)\n",
        "  #plt.pie(counts.values(), labels = hex_colors, colors = hex_colors)\n",
        "\n",
        "  return rgb_colors"
      ],
      "metadata": {
        "id": "QAtFRHw-8tSo"
      },
      "execution_count": null,
      "outputs": []
    },
    {
      "cell_type": "code",
      "source": [
        "def determine_color(n_images, breed):\n",
        "  fils = int(n_images)\n",
        "  colors = np.zeros((fils,3))\n",
        "  cont = 0\n",
        "  for imageName in glob.glob('/content/Project_Alpha_Vision/Find/'+breed+'/*.jpg'):\n",
        "    colors[cont:cont+1] = color_determination(imageName)\n",
        "    cont = cont + 1\n",
        "  \n",
        "  return colors "
      ],
      "metadata": {
        "id": "G0b25E-g8ylN"
      },
      "execution_count": null,
      "outputs": []
    },
    {
      "cell_type": "code",
      "source": [
        "def found_colors_dataset(image_type, breed, RMAX, GMAX, BMAX, RMIN, GMIN, BMIN):\n",
        "  \n",
        "  new_folder_path = \"/content/Images_Dogs_Colors\"\n",
        "  if not os.path.exists(new_folder_path):\n",
        "    os.makedirs(new_folder_path)\n",
        "\n",
        "  colors = np.zeros((1,3))\n",
        "  cont = 0\n",
        "  for imageName in glob.glob('/content/Project_Alpha_Vision/Dataset/'+image_type+'/'+breed+'/*.jpg'):\n",
        "    colors[0:] = color_determination(imageName)\n",
        "\n",
        "    image = cv2.imread(imageName)\n",
        "    if colors[0,0] > RMIN-20 and colors[0,0] < RMAX+20:\n",
        "      if colors[0,1] > GMIN-20 and colors[0,1] < GMAX+20:\n",
        "        if colors[0,2] > BMIN-20 and colors[0,2] < BMAX+20:\n",
        "          cv2.imwrite(new_folder_path +\"/image\" + str(cont)+\".jpg\", image)\n",
        "          cont += 1\n",
        "  \n",
        "  if  cont > 0:\n",
        "    for imageName2 in glob.glob(new_folder_path+'/*.jpg'):\n",
        "      display(Image(filename=imageName2, width = 300, height = 200))\n",
        "      print(\"\\n\")"
      ],
      "metadata": {
        "id": "AsTQM2KhhO-P"
      },
      "execution_count": null,
      "outputs": []
    },
    {
      "cell_type": "code",
      "source": [
        "def surf_feature_extraction(training_image, query_image):\n",
        "  # Convert the training image to gray scale\n",
        "  training_gray = cv2.cvtColor(training_image, cv2.COLOR_BGR2GRAY)\n",
        "  # Convert the query image to gray scale\n",
        "  query_gray = cv2.cvtColor(query_image, cv2.COLOR_BGR2GRAY)\n",
        "\n",
        "  # Initiate SIFT detector\n",
        "  surf = cv2.xfeatures2d.SURF_create()\n",
        "  # find the keypoints and descriptors with SIFT\n",
        "  keypoints_train, descriptors_train = surf.detectAndCompute(training_gray, None)\n",
        "  keypoints_query, descriptors_query = surf.detectAndCompute(query_gray, None)\n",
        "\n",
        "  # FLANN parameters\n",
        "  FLANN_INDEX_KDTREE = 1\n",
        "  index_params = dict (algorithm = FLANN_INDEX_KDTREE, trees = 5)\n",
        "  search_params = dict (checks = 30)\n",
        "\n",
        "  flann = cv2.FlannBasedMatcher(index_params,search_params)\n",
        "  matches = flann.knnMatch(descriptors_train, descriptors_query, k = 2)\n",
        "\n",
        "  # This value defines the minimum number of matches \n",
        "  Min_Match = 5\n",
        "\n",
        "  #This vector store all the good matches\n",
        "  good = []\n",
        "  for m,n in matches:\n",
        "    if m.distance < 0.5*n.distance:\n",
        "      good.append(m)\n",
        "\n",
        "    # We verify if we have enough coincidences (more than 10), if so we extract the locations of the key points that coincide in both images\n",
        "    if len(good) > Min_Match:\n",
        "      src_pts = np.float32([ keypoints_train[m.queryIdx].pt for m in good ]).reshape(-1,1,2)\n",
        "      dst_pts = np.float32([ keypoints_query[m.trainIdx].pt for m in good ]).reshape(-1,1,2) \n",
        "\n",
        "      M, mask = cv2.findHomography(src_pts, dst_pts, cv2.RANSAC,5.0) # Extract the locations of the key points that coincide in both images\n",
        "      matchesMask = mask.ravel().tolist()\n",
        "\n",
        "      h,w = training_gray.shape\n",
        "      pts = np.float32([ [0,0],[0,h-1],[w-1,h-1],[w-1,0] ]).reshape(-1,1,2)\n",
        "      dst = cv2.perspectiveTransform(pts,M) # We do a perspective transform \n",
        "\n",
        "      query_gray = cv2.polylines(query_gray,[np.int32(dst)],True,255,3, cv2.LINE_AA) # We use this OpenCV function to draw several lines at the same time \n",
        "\n",
        "    else:\n",
        "      matchesMask = None\n",
        "      \n",
        "    draw_params = dict(matchColor = (0,255,255),singlePointColor = None, matchesMask = matchesMask,flags = 2)\n",
        "    \n",
        "  result = cv2.drawMatches(training_image, keypoints_train, query_image, keypoints_query, good, None, **draw_params)\n",
        "  n_matching = len(good)\n",
        "  \n",
        "  return result, n_matching"
      ],
      "metadata": {
        "id": "HhZvLG9tGTQ4"
      },
      "execution_count": null,
      "outputs": []
    },
    {
      "cell_type": "code",
      "source": [
        "def feature_extraction_prepros(breed):\n",
        "  filenames = []\n",
        "  images = []\n",
        "\n",
        "  # The images in the github repository\n",
        "  for filename in os.listdir('/content/Project_Alpha_Vision/Find/'+breed+'/'):\n",
        "    if filename.split(\".\")[-1]not in [\"jpg\", \"png\", \"jpeg\"]:\n",
        "      continue\n",
        "    filenames.append(filename)\n",
        "    image = cv2.imread('/content/Project_Alpha_Vision/Find/'+breed+'/'+filename)\n",
        "    image = cv2.cvtColor(image,cv2.COLOR_BGR2RGB)\n",
        "    images.append(image)\n",
        "\n",
        "  num_images = len(images)\n",
        "\n",
        "  # Dogs\n",
        "  for i in range(num_images):\n",
        "      index = i\n",
        "      image = images[index]\n",
        "      filename = filenames[index]\n",
        "\n",
        "  return filenames, images, num_images"
      ],
      "metadata": {
        "id": "F8_aSWBbH5ib"
      },
      "execution_count": null,
      "outputs": []
    },
    {
      "cell_type": "code",
      "source": [
        "def run_extraction(filenames, images, Dog_image, num_images):\n",
        "  threshold = np.zeros(len(images))\n",
        "  for index in range(num_images):\n",
        "    filename = filenames[index]\n",
        "    result_surf = surf_feature_extraction(Dog_image, images[index])\n",
        "    plt.figure(figsize = (25, 50))\n",
        "    plt.title(filename)\n",
        "    plt.imshow(result_surf[0]),plt.show()\n",
        "    threshold[index] = result_surf[1]\n",
        "\n",
        "  return sum(threshold)"
      ],
      "metadata": {
        "id": "DiEZWcS0K6wI"
      },
      "execution_count": null,
      "outputs": []
    },
    {
      "cell_type": "code",
      "source": [
        "def feature_extraction(filenames, images,num_images):\n",
        "\n",
        "  new_folder_path = \"/content/Feature_extraction_Posibles\"\n",
        "  if not os.path.exists(new_folder_path):\n",
        "    os.makedirs(new_folder_path)\n",
        "\n",
        "  cont = 0\n",
        "  for imageName in glob.glob('/content/Images_Dogs_Colors/*.jpg'):\n",
        "    Dog_image = cv2.imread(imageName)\n",
        "    image = cv2.imread(imageName)\n",
        "    Dog_image  = cv2.cvtColor(Dog_image , cv2.COLOR_BGR2RGB)\n",
        "\n",
        "    matches = run_extraction(filenames, images, Dog_image, num_images)\n",
        "\n",
        "    if matches > 2:\n",
        "      cv2.imwrite(new_folder_path +\"/image\" + str(cont)+\".jpg\", image)\n",
        "      cont += 1\n",
        "  \n",
        "  for imageName in glob.glob(new_folder_path+'/*.jpg'): #assuming JPG\n",
        "    display(Image(filename=imageName, width = 300, height = 200))\n",
        "    print(\"\\n\")"
      ],
      "metadata": {
        "id": "OZ_iomjSLhb2"
      },
      "execution_count": null,
      "outputs": []
    },
    {
      "cell_type": "code",
      "source": [
        "def program_reset():\n",
        "  folders = ['Boxer','Chihuahua','German_Shepherd','Golden_Retriever','Pug','San_Bernardo','Schnauser','Husky_Siveriano']\n",
        "  for i in range(len(folders)):\n",
        "    for imageName in glob.glob('/content/Project_Alpha_Vision/Find/'+folders[i]+'/*.jpg'):\n",
        "      if os.path.exists(imageName):\n",
        "        os.remove(imageName)\n",
        "      else:\n",
        "        continue \n",
        "\n",
        "  for imageName in glob.glob('/content/Feature_extraction_Posibles/*.jpg'):\n",
        "    if os.path.exists(imageName):\n",
        "      os.remove(imageName)\n",
        "    else:\n",
        "        continue \n",
        "  \n",
        "  for imageName in glob.glob('/content/Images_Dogs/*.jpg'):\n",
        "    if os.path.exists(imageName):\n",
        "      os.remove(imageName)\n",
        "    else:\n",
        "        continue \n",
        "  \n",
        "  for imageName in glob.glob('/content/Images_Dogs_Colors/*.jpg'):\n",
        "    if os.path.exists(imageName):\n",
        "      os.remove(imageName)\n",
        "    else:\n",
        "        continue "
      ],
      "metadata": {
        "id": "cOxgs-OIMow_"
      },
      "execution_count": null,
      "outputs": []
    },
    {
      "cell_type": "code",
      "source": [
        "def copy_images(type_image, breed):\n",
        "  for imageName in glob.glob('/content/Project_Alpha_Vision/Find/'+breed+'/*.jpg'):\n",
        "    image = cv2.imread(imageName)\n",
        "    cv2.imwrite(\"/content/Project_Alpha_Vision/Dataset/\"+type_image+\"/\"+breed+\"/\"+str(random.randint(10,200000))+\".jpg\", image)"
      ],
      "metadata": {
        "id": "Wk72h91gSmCG"
      },
      "execution_count": null,
      "outputs": []
    },
    {
      "cell_type": "markdown",
      "source": [
        "## Menu\n"
      ],
      "metadata": {
        "id": "-HfJA3LoIyNc"
      }
    },
    {
      "cell_type": "code",
      "source": [
        "menu = int(input(\"Main Menu: \\n 1- I want to search for my dog \\n 2- I want to report a possible lost dog \\n 0- Exit \\n\"))\n",
        "while menu != 0:\n",
        "  if menu == 1:\n",
        "\n",
        "    images_type = \"Lost_Dogs\"\n",
        "    path = str(input(\"Please enter the path of your images: \"))\n",
        "\n",
        "    show_create_folder(path)\n",
        "    breed_yolo()\n",
        "    dog_breed = determine_breed()\n",
        "\n",
        "    #print('Maximum value:', dog_breed[0], \"At index: \", dog_breed[1])\n",
        "    #print(\"\\n\")\n",
        "    print('The breed of the lost dog is:',dog_breed[2])\n",
        "    print(\"\\n\")\n",
        "\n",
        "    rgb_values = determine_color(dog_breed[0], dog_breed[2])\n",
        "\n",
        "    print(\"These are the RGB values of each image: \")\n",
        "    print(\"\\n\")\n",
        "    print(rgb_values)\n",
        "    \n",
        "    RMX = max(rgb_values[0:int(dog_breed[0]),0])\n",
        "    GMX = max(rgb_values[0:int(dog_breed[0]),1])\n",
        "    BMX = max(rgb_values[0:int(dog_breed[0]),2])\n",
        "\n",
        "    RMN = min(rgb_values[0:int(dog_breed[0]),0])\n",
        "    GMN = min(rgb_values[0:int(dog_breed[0]),1])\n",
        "    BMN = min(rgb_values[0:int(dog_breed[0]),2])\n",
        "\n",
        "    R = mean(rgb_values[0:int(dog_breed[0]),0])\n",
        "    G = mean(rgb_values[0:int(dog_breed[0]),1])\n",
        "    B = mean(rgb_values[0:int(dog_breed[0]),2])\n",
        "    print(\"\\n\")\n",
        "    print(\"Dogs with similar colors: \")\n",
        "    found_colors_dataset(images_type, dog_breed[2], RMX, GMX, BMX, RMN, GMN, BMN)\n",
        "\n",
        "    print('\\n')\n",
        "    print('These pets were found, they have similar characteristics to those of your pet: ')\n",
        "    characteristics = feature_extraction_prepros(dog_breed[2])\n",
        "    feature_extraction(characteristics[0], characteristics[1], characteristics[2])\n",
        "\n",
        "    print('\\n')\n",
        "    print('Have you found your pet? ')\n",
        "    options = int(input(\"\\n 1- Press 1 if you found it: \\n 2- Press 2 if you did not find it: \\n\"))\n",
        "    save_images_type = \"Wanted_Dogs\"\n",
        "    while options != 0:\n",
        "      if options == 1:\n",
        "        program_reset()\n",
        "        break\n",
        "      elif options == 2:\n",
        "        copy_images(save_images_type, dog_breed[2])\n",
        "        program_reset()\n",
        "        break\n",
        "\n",
        "    break    \n",
        "\n",
        "  elif menu == 2:\n",
        "\n",
        "    images_type = \"Wanted_Dogs\"\n",
        "    path = str(input(\"Please enter the path of your images: \"))\n",
        "\n",
        "    show_create_folder(path)\n",
        "    breed_yolo()\n",
        "    dog_breed = determine_breed()\n",
        "\n",
        "    #print('Maximum value:', dog_breed[0], \"At index: \", dog_breed[1])\n",
        "    #print(\"\\n\")\n",
        "    print('The breed of the posible lost dog is:',dog_breed[2])\n",
        "    print(\"\\n\")\n",
        "\n",
        "    rgb_values = determine_color(dog_breed[0], dog_breed[2])\n",
        "\n",
        "    print(\"These are the RGB values of each image\")\n",
        "    print(\"\\n\")\n",
        "    print(rgb_values)\n",
        "    \n",
        "    RMX = max(rgb_values[0:int(dog_breed[0]),0])\n",
        "    GMX = max(rgb_values[0:int(dog_breed[0]),1])\n",
        "    BMX = max(rgb_values[0:int(dog_breed[0]),2])\n",
        "\n",
        "    RMN = min(rgb_values[0:int(dog_breed[0]),0])\n",
        "    GMN = min(rgb_values[0:int(dog_breed[0]),1])\n",
        "    BMN = min(rgb_values[0:int(dog_breed[0]),2])\n",
        "\n",
        "    R = mean(rgb_values[0:int(dog_breed[0]),0])\n",
        "    G = mean(rgb_values[0:int(dog_breed[0]),1])\n",
        "    B = mean(rgb_values[0:int(dog_breed[0]),2])\n",
        "    print(\"\\n\")\n",
        "    print(\"Dogs with similar colors: \")\n",
        "    found_colors_dataset(images_type, dog_breed[2], RMX, GMX, BMX, RMN, GMN, BMN)\n",
        "\n",
        "    print('\\n')\n",
        "    print('These pets were found, they have similar characteristics to the possible lost dog: ')\n",
        "    characteristics = feature_extraction_prepros(dog_breed[2])\n",
        "    feature_extraction(characteristics[0], characteristics[1], characteristics[2])\n",
        "\n",
        "    print('\\n')\n",
        "    print('Was the owner of the pet found? ')\n",
        "    options = int(input(\"\\n 1- Press 1 if the owner found his pet \\n 2- Press 2 if the owner did not find his pet \\n\"))\n",
        "    save_images_type = \"Lost_Dogs\"\n",
        "    while options != 0:\n",
        "      if options == 1:\n",
        "        program_reset()\n",
        "        break\n",
        "      elif options == 2:\n",
        "        copy_images(save_images_type, dog_breed[2])\n",
        "        program_reset()\n",
        "        break\n",
        "\n",
        "    break \n",
        "  else:\n",
        "    print(\"Please enter the correct option\")"
      ],
      "metadata": {
        "id": "HvQG0CGjI0D-"
      },
      "execution_count": null,
      "outputs": []
    }
  ]
}