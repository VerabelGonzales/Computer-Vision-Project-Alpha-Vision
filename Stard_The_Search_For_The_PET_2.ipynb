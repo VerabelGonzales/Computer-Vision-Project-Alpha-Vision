{
  "nbformat": 4,
  "nbformat_minor": 0,
  "metadata": {
    "colab": {
      "name": "Stard The Search For The PET.ipynb",
      "private_outputs": true,
      "provenance": [],
      "collapsed_sections": [],
      "mount_file_id": "1Gl_T-JB4MHAE6Kh2crPokLmYdtMO-CD9",
      "authorship_tag": "ABX9TyMcbKEIyZ6y5PCn2aFH8cjY",
      "include_colab_link": true
    },
    "kernelspec": {
      "name": "python3",
      "display_name": "Python 3"
    },
    "language_info": {
      "name": "python"
    }
  },
  "cells": [
    {
      "cell_type": "markdown",
      "metadata": {
        "id": "view-in-github",
        "colab_type": "text"
      },
      "source": [
        "<a href=\"https://colab.research.google.com/github/VerabelGonzales/Project_Alpha_Vision/blob/main/Stard_The_Search_For_The_PET_2.ipynb\" target=\"_parent\"><img src=\"https://colab.research.google.com/assets/colab-badge.svg\" alt=\"Open In Colab\"/></a>"
      ]
    },
    {
      "cell_type": "code",
      "execution_count": null,
      "metadata": {
        "id": "IhWTbUuMZaMw"
      },
      "outputs": [],
      "source": [
        "!pip install opencv-contrib-python==3.4.2.17"
      ]
    },
    {
      "cell_type": "markdown",
      "source": [
        "# Start the search for the PET"
      ],
      "metadata": {
        "id": "FRW-309KrDpO"
      }
    },
    {
      "cell_type": "markdown",
      "source": [
        "## Import Libreries"
      ],
      "metadata": {
        "id": "mXrtznC8rFLV"
      }
    },
    {
      "cell_type": "code",
      "source": [
        "import numpy as np\n",
        "import pandas as pd\n",
        "import matplotlib.pyplot as plt\n",
        "import sklearn\n",
        "from sklearn.cluster import KMeans\n",
        "from collections import Counter\n",
        "from skimage.color import rgb2lab, deltaE_cie76\n",
        "import cv2\n",
        "import os, requests\n",
        "import copy\n",
        "import pandas as pd\n",
        "from statistics import mean\n",
        "from numpy.ma.core import append\n",
        "import glob\n",
        "from IPython.display import Image, display\n",
        "from numpy.ma.core import append\n",
        "from statistics import mean\n",
        "import copy\n",
        "\n",
        "%matplotlib inline"
      ],
      "metadata": {
        "id": "ny2gAd9HZmzo"
      },
      "execution_count": null,
      "outputs": []
    },
    {
      "cell_type": "markdown",
      "source": [
        "## Clone our GitHub Repository"
      ],
      "metadata": {
        "id": "JaGpCBVqrOTf"
      }
    },
    {
      "cell_type": "code",
      "source": [
        "!git clone https://github.com/VerabelGonzales/Project_Alpha_Vision"
      ],
      "metadata": {
        "id": "pvQETfg0Zo2m"
      },
      "execution_count": null,
      "outputs": []
    },
    {
      "cell_type": "markdown",
      "source": [
        "## Images provided by a person of a possible lost dog (LOST)"
      ],
      "metadata": {
        "id": "S44JI2RjrSfk"
      }
    },
    {
      "cell_type": "code",
      "source": [
        "def determine_breed(image_type):\n",
        "  print(image_type)\n",
        "  folders = ['Boxer','Chihuahua','German_Shepherd','Golden_Retriever','Pug','San_Bernardo','Schnauzer','Husky_Siveriano']\n",
        "  breed = np.zeros(len(folders))\n",
        "  for i in range(len(folders)):\n",
        "    for imageName in glob.glob('/content/drive/MyDrive/Project_Alpha_Vision/'+image_type+'/'+folders[i]+'/*.jpg'): #assuming JPG\n",
        "      breed[i] = breed[i] + 1\n",
        "      display(Image(filename=imageName))\n",
        "      print(\"\\n\")\n",
        "\n",
        "  max_value = None\n",
        "  max_idx = None\n",
        "  for idx, num in enumerate(breed):\n",
        "      if (max_value is None or num > max_value):\n",
        "          max_value = num\n",
        "          max_idx = idx\n",
        "  \n",
        "  return max_value, max_idx, folders[max_idx]"
      ],
      "metadata": {
        "id": "sIwSI8VfERKR"
      },
      "execution_count": null,
      "outputs": []
    },
    {
      "cell_type": "markdown",
      "source": [
        "### Upload images of the possible lost dog "
      ],
      "metadata": {
        "id": "We2UiXjYrdPe"
      }
    },
    {
      "cell_type": "code",
      "source": [
        "# The images are in a google drive folder \n",
        "for imageName in glob.glob('/content/drive/MyDrive/Images_of_a_lost_dog/*.jpg'):\n",
        "    display(Image(filename=imageName)) # Show the images\n",
        "    print(\"\\n\")"
      ],
      "metadata": {
        "id": "Q4YTj7Ww_RNp"
      },
      "execution_count": null,
      "outputs": []
    },
    {
      "cell_type": "markdown",
      "source": [
        "### Determine the breed of the possible lost dog (among our 8 selected breeds)"
      ],
      "metadata": {
        "id": "bFKK57Mmrgg1"
      }
    },
    {
      "cell_type": "code",
      "source": [
        "# For a golden retriever\n",
        "!python /content/Project_Alpha_Vision/Detection_Breed/detect_lost_golden.py --weights /content/drive/MyDrive/Project_Alpha_Vision/MODELS/golden.pt --img 416 --conf 0.1 --source  /content/drive/MyDrive/Images_of_a_lost_dog/\n",
        "\n",
        "# For a Pug\n",
        "!python /content/Project_Alpha_Vision/Detection_Breed/detect_lost_pug.py --weights /content/drive/MyDrive/Project_Alpha_Vision/MODELS/pug.pt --img 416 --conf 0.1 --source /content/drive/MyDrive/Images_of_a_lost_dog/\n",
        "\n",
        "# For a German Shepherd \n",
        "#!python /content/Project_Alpha_Vision/Detection_Breed/Detect_Lost.py --weights /content/drive/MyDrive/2022_I/Artificial_Vision/Project_II/DOG_MODELS/golden.pt --img 416 --conf 0.1 --source /content/drive/MyDrive/golden_retriever/\n",
        "\n",
        "# For a Chihuahua\n",
        "#!python /content/Project_Alpha_Vision/Detection_Breed/Detect_Lost.py --weights /content/drive/MyDrive/2022_I/Artificial_Vision/Project_II/DOG_MODELS/golden.pt --img 416 --conf 0.1 --source /content/drive/MyDrive/golden_retriever/\n",
        "\n",
        "# For a Husky Siveriano\n",
        "#!python /content/Project_Alpha_Vision/Detection_Breed/Detect_Lost.py --weights /content/drive/MyDrive/2022_I/Artificial_Vision/Project_II/DOG_MODELS/golden.pt --img 416 --conf 0.1 --source /content/drive/MyDrive/golden_retriever/\n",
        "\n",
        "#For a Boxer\n",
        "#!python /content/Project_Alpha_Vision/Detection_Breed/Detect_Lost.py --weights /content/drive/MyDrive/2022_I/Artificial_Vision/Project_II/DOG_MODELS/golden.pt --img 416 --conf 0.1 --source /content/drive/MyDrive/golden_retriever/\n",
        "\n",
        "# For a San Berbardo \n",
        "#!python /content/Project_Alpha_Vision/Detection_Breed/Detect_Lost.py --weights /content/drive/MyDrive/2022_I/Artificial_Vision/Project_II/DOG_MODELS/golden.pt --img 416 --conf 0.1 --source /content/drive/MyDrive/golden_retriever/\n",
        "\n",
        "# For a Schauzer \n",
        "#!python /content/Project_Alpha_Vision/Detection_Breed/Detect_Lost.py --weights /content/drive/MyDrive/2022_I/Artificial_Vision/Project_II/DOG_MODELS/golden.pt --img 416 --conf 0.1 --source /content/drive/MyDrive/golden_retriever/\n"
      ],
      "metadata": {
        "id": "m9y52u5XZwfb"
      },
      "execution_count": null,
      "outputs": []
    },
    {
      "cell_type": "code",
      "source": [
        "images_type = 'LOST_DOGS'\n",
        "dog_breed = determine_breed(images_type)\n",
        "\n",
        "print('Maximum value:', dog_breed[0], \"At index: \", dog_breed[1])\n",
        "print('The breed of the lost dog is:',dog_breed[2])"
      ],
      "metadata": {
        "id": "IlHHGH3iHeyM"
      },
      "execution_count": null,
      "outputs": []
    },
    {
      "cell_type": "markdown",
      "source": [
        "### Determine the color of the dog "
      ],
      "metadata": {
        "id": "le-uJFY6rx8F"
      }
    },
    {
      "cell_type": "code",
      "source": [
        "def RGB2HEX(color):\n",
        "    return \"#{:02x}{:02x}{:02x}\".format(int(color[0]), int(color[1]), int(color[2]))"
      ],
      "metadata": {
        "id": "xJCLOAq5Jna4"
      },
      "execution_count": null,
      "outputs": []
    },
    {
      "cell_type": "code",
      "source": [
        "def color_determination(imagename):\n",
        "  image = cv2.imread(imagename)\n",
        "  image = cv2.cvtColor(image, cv2.COLOR_BGR2RGB)\n",
        "  number_of_colors = 1\n",
        "  modified_image = image.reshape(image.shape[0]*image.shape[1], 3)\n",
        "  clf = KMeans(n_clusters = number_of_colors)\n",
        "  labels = clf.fit_predict(modified_image)\n",
        "\n",
        "  counts = Counter(labels)\n",
        "\n",
        "  center_colors = clf.cluster_centers_\n",
        "  # We get ordered colors by iterating through the keys\n",
        "  ordered_colors = [center_colors[i] for i in counts.keys()]\n",
        "  hex_colors = [RGB2HEX(ordered_colors[i]) for i in counts.keys()]\n",
        "  rgb_colors = [ordered_colors[i] for i in counts.keys()]\n",
        "\n",
        "  #plt.title('Color Detection', fontsize=20)\n",
        "  #plt.pie(counts.values(), labels = hex_colors, colors = hex_colors)\n",
        "\n",
        "  return rgb_colors "
      ],
      "metadata": {
        "id": "U74xbQ3wJlBm"
      },
      "execution_count": null,
      "outputs": []
    },
    {
      "cell_type": "code",
      "source": [
        "def determine_color(image_type, n_images, breed):\n",
        "  fils = int(n_images)\n",
        "  colors = np.zeros((fils,3))\n",
        "  cont = 0\n",
        "  for imageName in glob.glob('/content/drive/MyDrive/Project_Alpha_Vision/'+image_type+'/'+breed+'/*.jpg'):\n",
        "    colors[cont:cont+1] = color_determination(imageName)\n",
        "    cont = cont + 1\n",
        "  \n",
        "  return colors \n"
      ],
      "metadata": {
        "id": "jKMkQThjKA88"
      },
      "execution_count": null,
      "outputs": []
    },
    {
      "cell_type": "code",
      "source": [
        "images_type = 'LOST_DOGS'\n",
        "rgb_values = determine_color(images_type, dog_breed[0], dog_breed[2])\n",
        "\n",
        "\n",
        "print(rgb_values)\n",
        "\n",
        "RMX = max(rgb_values[0:int(dog_breed[0]),0])\n",
        "GMX = max(rgb_values[0:int(dog_breed[0]),1])\n",
        "BMX = max(rgb_values[0:int(dog_breed[0]),2])\n",
        "\n",
        "RMN = min(rgb_values[0:int(dog_breed[0]),0])\n",
        "GMN = min(rgb_values[0:int(dog_breed[0]),1])\n",
        "BMN = min(rgb_values[0:int(dog_breed[0]),2])\n",
        "\n",
        "R = mean(rgb_values[0:int(dog_breed[0]),0])\n",
        "G = mean(rgb_values[0:int(dog_breed[0]),1])\n",
        "B = mean(rgb_values[0:int(dog_breed[0]),2])\n",
        "\n",
        "print('R',RMX)\n",
        "print('G',GMX)\n",
        "print('B',BMX)\n",
        "\n",
        "print('R',RMN)\n",
        "print('G',GMN)\n",
        "print('B',BMN)\n",
        "\n",
        "print('R',R)\n",
        "print('G',G)\n",
        "print('B',B)\n"
      ],
      "metadata": {
        "id": "TEDXazHcKjHg"
      },
      "execution_count": null,
      "outputs": []
    },
    {
      "cell_type": "markdown",
      "source": [
        "### Seacrh by feature extraction"
      ],
      "metadata": {
        "id": "BNfd0LG-r4tq"
      }
    },
    {
      "cell_type": "code",
      "source": [
        "def surf_feature_extraction(training_image, query_image):\n",
        "  # Convert the training image to gray scale\n",
        "  training_gray = cv2.cvtColor(training_image, cv2.COLOR_BGR2GRAY)\n",
        "  # Convert the query image to gray scale\n",
        "  query_gray = cv2.cvtColor(query_image, cv2.COLOR_BGR2GRAY)\n",
        "\n",
        "  # Initiate SIFT detector\n",
        "  surf = cv2.xfeatures2d.SURF_create()\n",
        "  # find the keypoints and descriptors with SIFT\n",
        "  keypoints_train, descriptors_train = surf.detectAndCompute(training_gray, None)\n",
        "  keypoints_query, descriptors_query = surf.detectAndCompute(query_gray, None)\n",
        "\n",
        "  # FLANN parameters\n",
        "  FLANN_INDEX_KDTREE = 1\n",
        "  index_params = dict (algorithm = FLANN_INDEX_KDTREE, trees = 5)\n",
        "  search_params = dict (checks = 50)\n",
        "\n",
        "  flann = cv2.FlannBasedMatcher(index_params,search_params)\n",
        "  matches = flann.knnMatch(descriptors_train, descriptors_query, k = 2)\n",
        "\n",
        "  # This value defines the minimum number of matches \n",
        "  Min_Match = 10\n",
        "\n",
        "  #This vector store all the good matches\n",
        "  good = []\n",
        "  for m,n in matches:\n",
        "    if m.distance < 0.5*n.distance:\n",
        "      good.append(m)\n",
        "\n",
        "    # We verify if we have enough coincidences (more than 10), if so we extract the locations of the key points that coincide in both images\n",
        "    if len(good) > Min_Match:\n",
        "      src_pts = np.float32([ keypoints_train[m.queryIdx].pt for m in good ]).reshape(-1,1,2)\n",
        "      dst_pts = np.float32([ keypoints_query[m.trainIdx].pt for m in good ]).reshape(-1,1,2) \n",
        "\n",
        "      M, mask = cv2.findHomography(src_pts, dst_pts, cv2.RANSAC,5.0) # Extract the locations of the key points that coincide in both images\n",
        "      matchesMask = mask.ravel().tolist()\n",
        "\n",
        "      h,w = training_gray.shape\n",
        "      pts = np.float32([ [0,0],[0,h-1],[w-1,h-1],[w-1,0] ]).reshape(-1,1,2)\n",
        "      dst = cv2.perspectiveTransform(pts,M) # We do a perspective transform \n",
        "\n",
        "      query_gray = cv2.polylines(query_gray,[np.int32(dst)],True,255,3, cv2.LINE_AA) # We use this OpenCV function to draw several lines at the same time \n",
        "\n",
        "    else:\n",
        "      matchesMask = None\n",
        "      \n",
        "    draw_params = dict(matchColor = (0,255,255),singlePointColor = None, matchesMask = matchesMask,flags = 2)\n",
        "    \n",
        "  result = cv2.drawMatches(training_image, keypoints_train, query_image, keypoints_query, good, None, **draw_params)\n",
        "  n_matching = len(good)\n",
        "  \n",
        "  return result, n_matching"
      ],
      "metadata": {
        "id": "ixDwEEuuamgj"
      },
      "execution_count": null,
      "outputs": []
    },
    {
      "cell_type": "code",
      "source": [
        "filenames = []\n",
        "images = []\n",
        "\n",
        "# The images are in a google drive folder \n",
        "for filename in os.listdir('/content/drive/MyDrive/Project_Alpha_Vision/LOST_DOGS/'+folders[max_idx]+'/'):\n",
        "  filenames.append(filename)\n",
        "  image = cv2.imread('/content/drive/MyDrive/Project_Alpha_Vision/LOST_DOGS/'+folders[max_idx]+'/'+filename)\n",
        "  image = cv2.cvtColor(image,cv2.COLOR_BGR2RGB)\n",
        "  images.append(image)\n",
        "\n",
        "num_images = len(images)\n",
        "plt.figure(figsize=(80, 50))\n",
        "\n",
        "# Students\n",
        "for i in range(num_images):\n",
        "    plt.subplot(1, num_images, i+1)\n",
        "    index = i\n",
        "    image = images[index]\n",
        "    filename = filenames[index]\n",
        "    plt.imshow(image)\n",
        "    plt.title(filename)"
      ],
      "metadata": {
        "id": "4VaybjHpao-v"
      },
      "execution_count": null,
      "outputs": []
    },
    {
      "cell_type": "code",
      "source": [
        "print('R',RMX)\n",
        "print('G',GMX)\n",
        "print('B',BMX)\n",
        "\n",
        "print('R',RMN)\n",
        "print('G',GMN)\n",
        "print('B',BMN)\n",
        "\n",
        "Class_image = cv2.imread('/content/drive/MyDrive/Project_Alpha_Vision/DATASET/WANTED DOGS/Golden_Retriever/2759564.jpg')\n",
        "# Convert the training image to RGB\n",
        "Class_image = cv2.cvtColor(Class_image, cv2.COLOR_BGR2RGB)\n",
        "plt.figure(figsize = (20, 10))\n",
        "plt.imshow(Class_image)\n",
        "plt.title(\"\")"
      ],
      "metadata": {
        "id": "RTBtDhNearHw"
      },
      "execution_count": null,
      "outputs": []
    },
    {
      "cell_type": "code",
      "source": [
        "threshold = np.zeros(len(images))\n",
        "for index in range(num_images):\n",
        "  filename = filenames[index]\n",
        "  result_surf = surf_feature_extraction(Class_image, images[index])\n",
        "  plt.title(filename)\n",
        "  plt.imshow(result_surf[0]),plt.show()\n",
        "  threshold[index] = result_surf[1]"
      ],
      "metadata": {
        "id": "PG6nW05Rau4p"
      },
      "execution_count": null,
      "outputs": []
    }
  ]
}