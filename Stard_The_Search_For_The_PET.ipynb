{
  "nbformat": 4,
  "nbformat_minor": 0,
  "metadata": {
    "colab": {
      "name": "Stard The Search For The PET.ipynb",
      "private_outputs": true,
      "provenance": [],
      "collapsed_sections": [],
      "mount_file_id": "1eNVsk8ElFLHyYW89-ClchKxqVsnHYIIr",
      "authorship_tag": "ABX9TyM/9X4HiB4y6jSYEPWXMuEn",
      "include_colab_link": true
    },
    "kernelspec": {
      "name": "python3",
      "display_name": "Python 3"
    },
    "language_info": {
      "name": "python"
    }
  },
  "cells": [
    {
      "cell_type": "markdown",
      "metadata": {
        "id": "view-in-github",
        "colab_type": "text"
      },
      "source": [
        "<a href=\"https://colab.research.google.com/github/VerabelGonzales/Project_Alpha_Vision/blob/main/Stard_The_Search_For_The_PET.ipynb\" target=\"_parent\"><img src=\"https://colab.research.google.com/assets/colab-badge.svg\" alt=\"Open In Colab\"/></a>"
      ]
    },
    {
      "cell_type": "markdown",
      "source": [
        "# Start the search for the PET"
      ],
      "metadata": {
        "id": "ZHCtHp_Y5qmS"
      }
    },
    {
      "cell_type": "markdown",
      "source": [
        "## Import Libreries"
      ],
      "metadata": {
        "id": "ABpijjD95vBl"
      }
    },
    {
      "cell_type": "code",
      "execution_count": null,
      "metadata": {
        "id": "F5OMTUWu5eVL"
      },
      "outputs": [],
      "source": [
        "import numpy as np\n",
        "import matplotlib.pyplot as plt\n",
        "import cv2\n",
        "import os, requests\n",
        "import copy\n",
        "import pandas as pd\n",
        "from statistics import mean\n",
        "from numpy.ma.core import append\n",
        "import glob\n",
        "from IPython.display import Image, display\n",
        "\n",
        "%matplotlib inline"
      ]
    },
    {
      "cell_type": "markdown",
      "source": [
        "## Clone our GitHub Repository"
      ],
      "metadata": {
        "id": "VB_uyFJH6CFt"
      }
    },
    {
      "cell_type": "code",
      "source": [
        "!git clone https://github.com/VerabelGonzales/Project_Alpha_Vision"
      ],
      "metadata": {
        "id": "Zt0dOErA6Bwc"
      },
      "execution_count": null,
      "outputs": []
    },
    {
      "cell_type": "markdown",
      "source": [
        "## Images provided by a person of a possible lost dog (LOST)"
      ],
      "metadata": {
        "id": "ZxJrvp7U6J-y"
      }
    },
    {
      "cell_type": "markdown",
      "source": [
        "### Upload images of the possible lost dog "
      ],
      "metadata": {
        "id": "8REIb9dT6T2-"
      }
    },
    {
      "cell_type": "code",
      "source": [
        "# The images are in a google drive folder \n",
        "for imageName in glob.glob('/content/drive/MyDrive/golden_retriever/*.jpg'):\n",
        "    display(Image(filename=imageName)) # Show the images\n",
        "    print(\"\\n\")"
      ],
      "metadata": {
        "id": "Sv2tI6mp6GCG"
      },
      "execution_count": null,
      "outputs": []
    },
    {
      "cell_type": "markdown",
      "source": [
        "### Determine the breed of the possible lost dog (among our 8 selected breeds)"
      ],
      "metadata": {
        "id": "FOVVmhff7uym"
      }
    },
    {
      "cell_type": "code",
      "source": [
        "# For a Golden Retriever \n",
        "!python /content/Project_Alpha_Vision/Detection_Breed/detect_lost_golden.py --weights /content/drive/MyDrive/Project_Alpha_Vision/MODELS/golden.pt --img 416 --conf 0.1 --source /content/drive/MyDrive/golden_retriever/\n",
        "\n",
        "# For a Pug\n",
        "!python /content/Project_Alpha_Vision/Detection_Breed/detect_lost_pug.py --weights /content/drive/MyDrive/Project_Alpha_Vision/MODELS/pug.pt --img 416 --conf 0.1 --source /content/drive/MyDrive/golden_retriever/\n",
        "\n",
        "# For a German Shepherd \n",
        "#!python /content/Project_Alpha_Vision/Detection_Breed/Detect_Lost.py --weights /content/drive/MyDrive/2022_I/Artificial_Vision/Project_II/DOG_MODELS/golden.pt --img 416 --conf 0.1 --source /content/drive/MyDrive/golden_retriever/\n",
        "\n",
        "# For a Chihuahua\n",
        "#!python /content/Project_Alpha_Vision/Detection_Breed/Detect_Lost.py --weights /content/drive/MyDrive/2022_I/Artificial_Vision/Project_II/DOG_MODELS/golden.pt --img 416 --conf 0.1 --source /content/drive/MyDrive/golden_retriever/\n",
        "\n",
        "# For a Husky Siveriano\n",
        "#!python /content/Project_Alpha_Vision/Detection_Breed/Detect_Lost.py --weights /content/drive/MyDrive/2022_I/Artificial_Vision/Project_II/DOG_MODELS/golden.pt --img 416 --conf 0.1 --source /content/drive/MyDrive/golden_retriever/\n",
        "\n",
        "#For a Boxer\n",
        "#!python /content/Project_Alpha_Vision/Detection_Breed/Detect_Lost.py --weights /content/drive/MyDrive/2022_I/Artificial_Vision/Project_II/DOG_MODELS/golden.pt --img 416 --conf 0.1 --source /content/drive/MyDrive/golden_retriever/\n",
        "\n",
        "# For a San Berbardo \n",
        "#!python /content/Project_Alpha_Vision/Detection_Breed/Detect_Lost.py --weights /content/drive/MyDrive/2022_I/Artificial_Vision/Project_II/DOG_MODELS/golden.pt --img 416 --conf 0.1 --source /content/drive/MyDrive/golden_retriever/\n",
        "\n",
        "# For a Schauzer \n",
        "#!python /content/Project_Alpha_Vision/Detection_Breed/Detect_Lost.py --weights /content/drive/MyDrive/2022_I/Artificial_Vision/Project_II/DOG_MODELS/golden.pt --img 416 --conf 0.1 --source /content/drive/MyDrive/golden_retriever/\n"
      ],
      "metadata": {
        "id": "vsI0eKVG6uDk"
      },
      "execution_count": null,
      "outputs": []
    },
    {
      "cell_type": "markdown",
      "source": [
        "### Find the breed of the dog"
      ],
      "metadata": {
        "id": "bSAqv-YBYCxT"
      }
    },
    {
      "cell_type": "code",
      "source": [
        "folders = ['Boxer','Chihuahua','German_Shepherd','Golden_Retriever','Pug','San_Bernardo','Schnauzer','Husky_Siveriano']\n",
        "breed = np.zeros(len(folders))"
      ],
      "metadata": {
        "id": "sDg-Ef3gYiQX"
      },
      "execution_count": null,
      "outputs": []
    },
    {
      "cell_type": "code",
      "source": [
        "for i in range(len(folders)):\n",
        "  for imageName in glob.glob('/content/drive/MyDrive/Project_Alpha_Vision/LOST_DOGS/'+folders[i]+'/*.jpg'): #assuming JPG\n",
        "      breed[i] = breed[i] + 1\n",
        "      display(Image(filename=imageName))\n",
        "      print(\"\\n\")\n",
        "\n",
        "max_value = None\n",
        "max_idx = None\n",
        "for idx, num in enumerate(breed):\n",
        "    if (max_value is None or num > max_value):\n",
        "        max_value = num\n",
        "        max_idx = idx\n",
        "\n",
        "print('Maximum value:', max_value, \"At index: \", max_idx)"
      ],
      "metadata": {
        "id": "z_XBbclIYCV4"
      },
      "execution_count": null,
      "outputs": []
    },
    {
      "cell_type": "code",
      "source": [
        "print('The breed of the lost dog is:',folders[max_idx])"
      ],
      "metadata": {
        "id": "JyNLeseActGj"
      },
      "execution_count": null,
      "outputs": []
    }
  ]
}