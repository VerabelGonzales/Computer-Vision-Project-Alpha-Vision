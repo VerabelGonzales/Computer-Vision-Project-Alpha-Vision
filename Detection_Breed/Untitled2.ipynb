{
  "nbformat": 4,
  "nbformat_minor": 0,
  "metadata": {
    "colab": {
      "name": "Untitled2.ipynb",
      "private_outputs": true,
      "provenance": []
    },
    "kernelspec": {
      "name": "python3",
      "display_name": "Python 3"
    },
    "language_info": {
      "name": "python"
    },
    "accelerator": "GPU",
    "gpuClass": "standard"
  },
  "cells": [
    {
      "cell_type": "code",
      "execution_count": null,
      "metadata": {
        "id": "9v7e-RHm5FZi"
      },
      "outputs": [],
      "source": [
        "import numpy as np\n",
        "import pandas as pd\n",
        "import matplotlib.pyplot as plt\n",
        "import sklearn\n",
        "from sklearn.cluster import KMeans\n",
        "from collections import Counter\n",
        "from skimage.color import rgb2lab, deltaE_cie76\n",
        "import cv2\n",
        "import os, requests\n",
        "import copy\n",
        "import pandas as pd\n",
        "from statistics import mean\n",
        "from numpy.ma.core import append\n",
        "import glob\n",
        "from IPython.display import Image, display\n",
        "from numpy.ma.core import append\n",
        "from statistics import mean\n",
        "import copy\n",
        "\n",
        "%matplotlib inline"
      ]
    },
    {
      "cell_type": "code",
      "source": [
        "!git clone https://github.com/VerabelGonzales/Project_Alpha_Vision"
      ],
      "metadata": {
        "id": "8UgQK_8d5NBw"
      },
      "execution_count": null,
      "outputs": []
    },
    {
      "cell_type": "code",
      "source": [
        ""
      ],
      "metadata": {
        "id": "qpKrmSRv5v7y"
      },
      "execution_count": null,
      "outputs": []
    }
  ]
}